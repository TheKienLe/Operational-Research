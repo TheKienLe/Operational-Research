{
 "cells": [
  {
   "cell_type": "code",
   "execution_count": 1,
   "metadata": {},
   "outputs": [
    {
     "name": "stdout",
     "output_type": "stream",
     "text": [
      "{'cluster1': {1: 25, 2: 45, 3: 65}, 'cluster2': {1: 20, 2: 30, 3: 40}}\n"
     ]
    }
   ],
   "source": [
    "def calculate_cluster_distances(dtms, cluster, ports):\n",
    "    # Initialize the result dictionary\n",
    "    distance_from_port = {port+1: 0 for port in ports}\n",
    "\n",
    "    for port in ports:\n",
    "        for cus in cluster:\n",
    "            distance_from_port[port] += dtms[port, cus]\n",
    "\n",
    "    \n",
    "    return distance_from_port\n",
    "\n",
    "\n",
    "result = calculate_cluster_distances(distance_matrix, clusters)\n",
    "print(result)"
   ]
  },
  {
   "cell_type": "code",
   "execution_count": 18,
   "metadata": {},
   "outputs": [
    {
     "name": "stdout",
     "output_type": "stream",
     "text": [
      "{105: 858.25, 103: 606.3399999999999, 104: 1008.82, 102: 1046.05, 101: 1370.98}\n"
     ]
    }
   ],
   "source": [
    "# Example dictionary and order list\n",
    "distance = {101: 1370.98, 102: 1046.05, 103: 606.3399999999999, 104: 1008.82, 105: 858.25}\n",
    "order_list = [105, 103, 104, 102, 101]\n",
    "\n",
    "# Sort the dictionary based on the given order list\n",
    "sorted_distance = {key: distance[key] for key in order_list if key in distance}\n",
    "\n",
    "# Print the sorted dictionary\n",
    "print(sorted_distance)"
   ]
  }
 ],
 "metadata": {
  "kernelspec": {
   "display_name": "Python 3",
   "language": "python",
   "name": "python3"
  },
  "language_info": {
   "codemirror_mode": {
    "name": "ipython",
    "version": 3
   },
   "file_extension": ".py",
   "mimetype": "text/x-python",
   "name": "python",
   "nbconvert_exporter": "python",
   "pygments_lexer": "ipython3",
   "version": "3.11.9"
  }
 },
 "nbformat": 4,
 "nbformat_minor": 2
}
