{
 "cells": [
  {
   "cell_type": "code",
   "execution_count": 81,
   "metadata": {},
   "outputs": [
    {
     "data": {
      "text/plain": [
       "30"
      ]
     },
     "execution_count": 81,
     "metadata": {},
     "output_type": "execute_result"
    }
   ],
   "source": [
    "import pandas as pd\n",
    "import numpy as np\n",
    "\n",
    "# Theta = np.transpose(np.delete(np.array(pd.read_excel(\n",
    "#         \"data.xlsx\", \"vehicle_cost\")), 0, 1))[1]\n"
   ]
  },
  {
   "cell_type": "code",
   "execution_count": 28,
   "metadata": {},
   "outputs": [
    {
     "data": {
      "text/plain": [
       "array([48, 36, 35], dtype=int64)"
      ]
     },
     "execution_count": 28,
     "metadata": {},
     "output_type": "execute_result"
    }
   ],
   "source": [
    "def lst_to_dict(lst):\n",
    "    mydict = dict()\n",
    "    for sublist in lst:\n",
    "        mydict[tuple(sublist[0:3])] = sublist[len(sublist) - 1]\n",
    "    return mydict\n",
    "\n",
    "\n",
    "def _2d_lst_to_dict(lst, V):\n",
    "    mydict = dict()\n",
    "    for v in V:\n",
    "        for i in range(len(lst)):\n",
    "            for j in range(len(lst)):\n",
    "                mydict[(i, j, v)] = lst[i][j]\n",
    "    return mydict\n",
    "\n",
    "# n, r,  m, v\n",
    "# production data\n",
    "df = pd.read_excel(\"data.xlsx\", \"set\")\n",
    "n = int(df.iloc[0, 2])\n",
    "r = int(df.iloc[1, 2])\n",
    "m = int(df.iloc[2, 2])\n",
    "v = int(df.iloc[3, 2])\n",
    "# set\n",
    "N = range(n)\n",
    "R = range(r)\n",
    "M = range(m)\n",
    "V = range(v)\n",
    "\n",
    "# parameter\n",
    "# unit processing cost on machine m per unit of time\n",
    "lamda = np.transpose(np.delete(np.array(pd.read_excel(\n",
    "    \"data.xlsx\", \"machine_cost\")), 0, 1))[0]\n",
    "\n",
    "# fixed cost of vihecle type v\n",
    "F = np.transpose(np.delete(np.array(pd.read_excel(\n",
    "    \"data.xlsx\", \"vehicle_cost\")), 0, 1))[0]\n",
    "\n",
    "# variable cost of vehicle v per unit of time\n",
    "Theta = np.transpose(np.delete(np.array(pd.read_excel(\n",
    "    \"data.xlsx\", \"vehicle_cost\")), 0, 1))[1]\n",
    "\n",
    "# weight of early delivery\n",
    "mu = df.iloc[4, 2]\n",
    "# weight of tardy delivery\n",
    "fei = df.iloc[5, 2]\n",
    "\n",
    "# process time of operation r of job j on machine m\n",
    "# [job, operation, machine, time]\n",
    "p = lst_to_dict(np.array(pd.read_excel(\"data.xlsx\", \"processing_time\")))\n",
    "\n",
    "# process machine matrix\n",
    "# [job, operation, machine, value]\n",
    "a = lst_to_dict(np.array(pd.read_excel(\n",
    "    \"data.xlsx\", \"process_machine_matrix\")))\n",
    "\n",
    "# transportation time from customer i to customer j by vehicle v\n",
    "t = _2d_lst_to_dict(\n",
    "    np.delete(np.array(pd.read_excel(\"data.xlsx\", \"transport_time\")), 0, 1), M)\n",
    "\n",
    "# size of job j\n",
    "theta = np.transpose(np.delete(np.array(pd.read_excel(\n",
    "    \"data.xlsx\", \"size_job\")), 0, 1))[0]\n",
    "\n",
    "# delivery time window of job j\n",
    "tw = np.array(pd.read_excel(\"data.xlsx\", \"delivery_time_window\"))\n",
    "\n",
    "# capacity of vehicle v\n",
    "q = np.transpose(\n",
    "    np.delete(np.array(pd.read_excel(\"data.xlsx\", \"vehicle_capacity\")), 0, 1))[0]\n",
    "\n",
    "theta"
   ]
  },
  {
   "cell_type": "code",
   "execution_count": 15,
   "metadata": {},
   "outputs": [
    {
     "name": "stdout",
     "output_type": "stream",
     "text": [
      "Solution:\n",
      "Objective value (z) = 42.00\n",
      "x = 14.00\n",
      "y = 0.00\n",
      "Solution:\n",
      "Objective value (z) = 70.00\n",
      "x = 14.00\n",
      "y = 0.00\n"
     ]
    }
   ],
   "source": [
    "from ortools.linear_solver import pywraplp\n",
    "\n",
    "# Define problem parameters\n",
    "epsilon = 0.1  # Tolerance value\n",
    "\n",
    "# Create solver\n",
    "solver = pywraplp.Solver.CreateSolver(\"GLOP\")\n",
    "\n",
    "# Define decision variables\n",
    "x = solver.NumVar(0, solver.infinity(), \"x\")\n",
    "y = solver.NumVar(0, solver.infinity(), \"y\")\n",
    "\n",
    "# Define objective function (minimize z)\n",
    "objective1 = 3*x + 4*y\n",
    "objective2 = 5*x - 4*y\n",
    "\n",
    "\n",
    "# Define constraints\n",
    "constraint1 = x + 2*y <= 14\n",
    "constraint2 = 3*x - y >= 2\n",
    "ct1 = solver.Add(constraint1)\n",
    "ct2 = solver.Add(constraint2)\n",
    "\n",
    "obj = solver.Maximize(objective1)\n",
    "# Solve the problem with binary indicator set to prioritize main objective (minimize z)\n",
    "status = solver.Solve()\n",
    "\n",
    "# Print solution (assuming optimal solution found)\n",
    "if status == pywraplp.Solver.OPTIMAL:\n",
    "  print(\"Solution:\")\n",
    "  print(f\"Objective value (z) = {solver.Objective().Value():.2f}\")\n",
    "  print(f\"x = {x.solution_value():.2f}\")\n",
    "  print(f\"y = {y.solution_value():.2f}\")\n",
    "  best1 = solver.Objective().Value()\n",
    "\n",
    "ct2.SetBounds(-solver.infinity(), solver.infinity())\n",
    "constraint3 = objective1 == best1\n",
    "ct3 = solver.Add(constraint3)\n",
    "\n",
    "obj = solver.Minimize(objective2)\n",
    "\n",
    "# Solve the problem with binary indicator set to prioritize main objective (minimize z)\n",
    "status = solver.Solve()\n",
    "\n",
    "# Print solution (assuming optimal solution found)\n",
    "if status == pywraplp.Solver.OPTIMAL:\n",
    "  print(\"Solution:\")\n",
    "  print(f\"Objective value (z) = {solver.Objective().Value():.2f}\")\n",
    "  print(f\"x = {x.solution_value():.2f}\")\n",
    "  print(f\"y = {y.solution_value():.2f}\")"
   ]
  },
  {
   "cell_type": "code",
   "execution_count": null,
   "metadata": {},
   "outputs": [],
   "source": [
    "        # for f in R:\n",
    "        #     for j in N_full:\n",
    "        #         for r in R:\n",
    "        #             for m in M:\n",
    "        #                 print(f\"C{0, f, j, r, m} =\", Y[(0, f, j, r, m)].solution_value())\n",
    "\n",
    "        # for i in self.N:\n",
    "        #     for f in self.F:\n",
    "        #         print(\"y =\", self.Y[(i, f)].solution_value())\n",
    "\n",
    "        # for i in self.N:\n",
    "        #     for k in self.lambda_dict[i]:\n",
    "        #         for j in self.E_dict[k]:\n",
    "        #             print(f\"x{i,j,k} =\", self.X[(i,j,k)].solution_value())\n",
    "        # \n",
    "        # print(\"y =\", self.Y.solution_value())\n",
    "\n",
    "\n",
    "\n",
    "    # # 11\n",
    "    # total6 = 0\n",
    "    # for i in N:\n",
    "    #     for f in R:\n",
    "    #         for r in R:\n",
    "    #             for m in M:\n",
    "    #                 total6 += Y[(i, f, r, r, m)]\n",
    "    # solver.Add(total6 == 1)\n"
   ]
  }
 ],
 "metadata": {
  "kernelspec": {
   "display_name": "Python 3",
   "language": "python",
   "name": "python3"
  },
  "language_info": {
   "codemirror_mode": {
    "name": "ipython",
    "version": 3
   },
   "file_extension": ".py",
   "mimetype": "text/x-python",
   "name": "python",
   "nbconvert_exporter": "python",
   "pygments_lexer": "ipython3",
   "version": "3.11.9"
  }
 },
 "nbformat": 4,
 "nbformat_minor": 2
}
