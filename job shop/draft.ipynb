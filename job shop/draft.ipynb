{
 "cells": [
  {
   "cell_type": "code",
   "execution_count": 5,
   "metadata": {},
   "outputs": [
    {
     "ename": "NameError",
     "evalue": "name 'mu' is not defined",
     "output_type": "error",
     "traceback": [
      "\u001b[1;31m---------------------------------------------------------------------------\u001b[0m",
      "\u001b[1;31mNameError\u001b[0m                                 Traceback (most recent call last)",
      "Cell \u001b[1;32mIn[5], line 7\u001b[0m\n\u001b[0;32m      2\u001b[0m \u001b[38;5;28;01mimport\u001b[39;00m \u001b[38;5;21;01mnumpy\u001b[39;00m \u001b[38;5;28;01mas\u001b[39;00m \u001b[38;5;21;01mnp\u001b[39;00m\n\u001b[0;32m      4\u001b[0m Theta \u001b[38;5;241m=\u001b[39m np\u001b[38;5;241m.\u001b[39mtranspose(np\u001b[38;5;241m.\u001b[39mdelete(np\u001b[38;5;241m.\u001b[39marray(pd\u001b[38;5;241m.\u001b[39mread_excel(\n\u001b[0;32m      5\u001b[0m         \u001b[38;5;124m\"\u001b[39m\u001b[38;5;124mdata.xlsx\u001b[39m\u001b[38;5;124m\"\u001b[39m, \u001b[38;5;124m\"\u001b[39m\u001b[38;5;124mvehicle_cost\u001b[39m\u001b[38;5;124m\"\u001b[39m)), \u001b[38;5;241m0\u001b[39m, \u001b[38;5;241m1\u001b[39m))[\u001b[38;5;241m1\u001b[39m]\n\u001b[1;32m----> 7\u001b[0m \u001b[43mmu\u001b[49m\n",
      "\u001b[1;31mNameError\u001b[0m: name 'mu' is not defined"
     ]
    }
   ],
   "source": [
    "import pandas as pd\n",
    "import numpy as np\n",
    "\n",
    "Theta = np.transpose(np.delete(np.array(pd.read_excel(\n",
    "        \"data.xlsx\", \"vehicle_cost\")), 0, 1))[1]\n"
   ]
  },
  {
   "cell_type": "code",
   "execution_count": 28,
   "metadata": {},
   "outputs": [
    {
     "data": {
      "text/plain": [
       "array([48, 36, 35], dtype=int64)"
      ]
     },
     "execution_count": 28,
     "metadata": {},
     "output_type": "execute_result"
    }
   ],
   "source": [
    "def lst_to_dict(lst):\n",
    "    mydict = dict()\n",
    "    for sublist in lst:\n",
    "        mydict[tuple(sublist[0:3])] = sublist[len(sublist) - 1]\n",
    "    return mydict\n",
    "\n",
    "\n",
    "def _2d_lst_to_dict(lst, V):\n",
    "    mydict = dict()\n",
    "    for v in V:\n",
    "        for i in range(len(lst)):\n",
    "            for j in range(len(lst)):\n",
    "                mydict[(i, j, v)] = lst[i][j]\n",
    "    return mydict\n",
    "\n",
    "# n, r,  m, v\n",
    "# production data\n",
    "df = pd.read_excel(\"data.xlsx\", \"set\")\n",
    "n = int(df.iloc[0, 2])\n",
    "r = int(df.iloc[1, 2])\n",
    "m = int(df.iloc[2, 2])\n",
    "v = int(df.iloc[3, 2])\n",
    "# set\n",
    "N = range(n)\n",
    "R = range(r)\n",
    "M = range(m)\n",
    "V = range(v)\n",
    "\n",
    "# parameter\n",
    "# unit processing cost on machine m per unit of time\n",
    "lamda = np.transpose(np.delete(np.array(pd.read_excel(\n",
    "    \"data.xlsx\", \"machine_cost\")), 0, 1))[0]\n",
    "\n",
    "# fixed cost of vihecle type v\n",
    "F = np.transpose(np.delete(np.array(pd.read_excel(\n",
    "    \"data.xlsx\", \"vehicle_cost\")), 0, 1))[0]\n",
    "\n",
    "# variable cost of vehicle v per unit of time\n",
    "Theta = np.transpose(np.delete(np.array(pd.read_excel(\n",
    "    \"data.xlsx\", \"vehicle_cost\")), 0, 1))[1]\n",
    "\n",
    "# weight of early delivery\n",
    "mu = df.iloc[4, 2]\n",
    "# weight of tardy delivery\n",
    "fei = df.iloc[5, 2]\n",
    "\n",
    "# process time of operation r of job j on machine m\n",
    "# [job, operation, machine, time]\n",
    "p = lst_to_dict(np.array(pd.read_excel(\"data.xlsx\", \"processing_time\")))\n",
    "\n",
    "# process machine matrix\n",
    "# [job, operation, machine, value]\n",
    "a = lst_to_dict(np.array(pd.read_excel(\n",
    "    \"data.xlsx\", \"process_machine_matrix\")))\n",
    "\n",
    "# transportation time from customer i to customer j by vehicle v\n",
    "t = _2d_lst_to_dict(\n",
    "    np.delete(np.array(pd.read_excel(\"data.xlsx\", \"transport_time\")), 0, 1), M)\n",
    "\n",
    "# size of job j\n",
    "theta = np.transpose(np.delete(np.array(pd.read_excel(\n",
    "    \"data.xlsx\", \"size_job\")), 0, 1))[0]\n",
    "\n",
    "# delivery time window of job j\n",
    "tw = np.array(pd.read_excel(\"data.xlsx\", \"delivery_time_window\"))\n",
    "\n",
    "# capacity of vehicle v\n",
    "q = np.transpose(\n",
    "    np.delete(np.array(pd.read_excel(\"data.xlsx\", \"vehicle_capacity\")), 0, 1))[0]\n",
    "\n",
    "theta"
   ]
  }
 ],
 "metadata": {
  "kernelspec": {
   "display_name": "Python 3",
   "language": "python",
   "name": "python3"
  },
  "language_info": {
   "codemirror_mode": {
    "name": "ipython",
    "version": 3
   },
   "file_extension": ".py",
   "mimetype": "text/x-python",
   "name": "python",
   "nbconvert_exporter": "python",
   "pygments_lexer": "ipython3",
   "version": "3.11.8"
  }
 },
 "nbformat": 4,
 "nbformat_minor": 2
}
