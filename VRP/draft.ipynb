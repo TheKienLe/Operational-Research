{
 "cells": [
  {
   "cell_type": "code",
   "execution_count": 15,
   "metadata": {},
   "outputs": [
    {
     "name": "stdout",
     "output_type": "stream",
     "text": [
      "Random numbers: [3 0 1]\n"
     ]
    }
   ],
   "source": [
    "import numpy as np\n",
    "\n",
    "# Define the range\n",
    "arr = np.arange(0, 5)\n",
    "\n",
    "# Define the number of random numbers you want to pick\n",
    "n = 3  # You can change this to any number you want\n",
    "\n",
    "# Generate n random numbers from the range\n",
    "random_numbers = np.random.choice(arr, n, replace=False)  # replace=False ensures unique selections\n",
    "\n",
    "print(\"Random numbers:\", random_numbers)\n"
   ]
  },
  {
   "cell_type": "code",
   "execution_count": 1,
   "metadata": {},
   "outputs": [
    {
     "data": {
      "text/plain": [
       "2"
      ]
     },
     "execution_count": 1,
     "metadata": {},
     "output_type": "execute_result"
    }
   ],
   "source": [
    "a= [[7, 2, 6, 5], [1, 3, 4]]\n",
    "len(a)"
   ]
  },
  {
   "cell_type": "code",
   "execution_count": 8,
   "metadata": {},
   "outputs": [
    {
     "name": "stdout",
     "output_type": "stream",
     "text": [
      "Output dict: {0: [10, 'a'], 1: [20, 'c'], 2: [40, 'f'], 3: [30, 'z']}\n"
     ]
    }
   ],
   "source": [
    "my_dict = {101: [10, 'a'], 102: [20, 'c'], 103: [30, 'z'], 104: [40, 'f']}\n",
    "\n",
    "sorted_values = sorted(my_dict.values(), key=lambda x: x[1])\n",
    "sorted_dict = {index: value for index, value in enumerate(sorted_values)}\n",
    "\n",
    "print(\"Output dict:\", sorted_dict)\n"
   ]
  },
  {
   "cell_type": "code",
   "execution_count": 4,
   "metadata": {},
   "outputs": [
    {
     "name": "stdout",
     "output_type": "stream",
     "text": [
      "{'c': 1, 'a': 2, 'b': 3}\n"
     ]
    }
   ],
   "source": [
    "my_dict = {'b': 3, 'a': 2, 'c': 1}\n",
    "sorted_dict = dict(sorted(my_dict.items(), key=lambda item: item[1]))\n",
    "print(sorted_dict)"
   ]
  },
  {
   "cell_type": "code",
   "execution_count": 5,
   "metadata": {},
   "outputs": [
    {
     "name": "stdout",
     "output_type": "stream",
     "text": [
      "Updated dictionary: {101: 10, 102: 20, 103: 30, 104: 40}\n"
     ]
    }
   ],
   "source": [
    "my_dict = {1: 10, 2: 20, 3: 30, 4: 40}\n",
    "added_value = 100\n",
    "\n",
    "updated_dict = {key + added_value: value for key, value in my_dict.items()}\n",
    "\n",
    "print(\"Updated dictionary:\", updated_dict)"
   ]
  }
 ],
 "metadata": {
  "kernelspec": {
   "display_name": "Python 3",
   "language": "python",
   "name": "python3"
  },
  "language_info": {
   "codemirror_mode": {
    "name": "ipython",
    "version": 3
   },
   "file_extension": ".py",
   "mimetype": "text/x-python",
   "name": "python",
   "nbconvert_exporter": "python",
   "pygments_lexer": "ipython3",
   "version": "3.11.9"
  }
 },
 "nbformat": 4,
 "nbformat_minor": 2
}
